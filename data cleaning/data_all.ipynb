{
 "cells": [
  {
   "cell_type": "code",
   "execution_count": 22,
   "metadata": {},
   "outputs": [],
   "source": [
    "import pandas as pd\n",
    "import numpy as np\n",
    "import matplotlib.pyplot as plt\n",
    "import seaborn as sns\n",
    "import re\n",
    "import jieba.posseg as psg\n",
    "import seaborn as sns\n",
    "plt.style.use('fivethirtyeight') \n",
    "\n",
    "#导入用于计数的包\n",
    "from collections import Counter\n",
    "import os\n",
    "import requests"
   ]
  },
  {
   "cell_type": "code",
   "execution_count": 76,
   "metadata": {},
   "outputs": [],
   "source": [
    "data = pd.read_csv('data_all.csv')"
   ]
  },
  {
   "cell_type": "code",
   "execution_count": 77,
   "metadata": {},
   "outputs": [
    {
     "data": {
      "text/html": [
       "<div>\n",
       "<style scoped>\n",
       "    .dataframe tbody tr th:only-of-type {\n",
       "        vertical-align: middle;\n",
       "    }\n",
       "\n",
       "    .dataframe tbody tr th {\n",
       "        vertical-align: top;\n",
       "    }\n",
       "\n",
       "    .dataframe thead th {\n",
       "        text-align: right;\n",
       "    }\n",
       "</style>\n",
       "<table border=\"1\" class=\"dataframe\">\n",
       "  <thead>\n",
       "    <tr style=\"text-align: right;\">\n",
       "      <th></th>\n",
       "      <th>text</th>\n",
       "      <th>Release time</th>\n",
       "    </tr>\n",
       "  </thead>\n",
       "  <tbody>\n",
       "    <tr>\n",
       "      <th>0</th>\n",
       "      <td>#????? ???????#\\n\\n前几天用农夫山泉的虎年纪念瓶插了花，据说这个瓶身设计是...</td>\n",
       "      <td>03月20日 10:50</td>\n",
       "    </tr>\n",
       "    <tr>\n",
       "      <th>1</th>\n",
       "      <td>#_啵崽の糕鸭##你还喝农夫山泉吗#卧槽，吓死了真的是，这个话题就不能说清楚吗？以为有什么事...</td>\n",
       "      <td>03月29日 10:46</td>\n",
       "    </tr>\n",
       "    <tr>\n",
       "      <th>2</th>\n",
       "      <td>#1067喇叭花快报# ?▲国家企业信用信息公示系统显示，浙江农夫山泉饮用水有限公司已注销。...</td>\n",
       "      <td>03月28日 23:43</td>\n",
       "    </tr>\n",
       "    <tr>\n",
       "      <th>3</th>\n",
       "      <td>#2023胡润百富榜发布#</td>\n",
       "      <td>2023/10/24 19:39</td>\n",
       "    </tr>\n",
       "    <tr>\n",
       "      <th>4</th>\n",
       "      <td>#2023胡润百富榜发布#【胡润百富榜：农夫山泉钟睒睒三度蝉联首富，马化腾重回第二，黄峥首次...</td>\n",
       "      <td>03月28日 19:58</td>\n",
       "    </tr>\n",
       "  </tbody>\n",
       "</table>\n",
       "</div>"
      ],
      "text/plain": [
       "                                                text      Release time\n",
       "0  #????? ???????#\\n\\n前几天用农夫山泉的虎年纪念瓶插了花，据说这个瓶身设计是...      03月20日 10:50\n",
       "1  #_啵崽の糕鸭##你还喝农夫山泉吗#卧槽，吓死了真的是，这个话题就不能说清楚吗？以为有什么事...      03月29日 10:46\n",
       "2  #1067喇叭花快报# ?▲国家企业信用信息公示系统显示，浙江农夫山泉饮用水有限公司已注销。...      03月28日 23:43\n",
       "3                                      #2023胡润百富榜发布#  2023/10/24 19:39\n",
       "4  #2023胡润百富榜发布#【胡润百富榜：农夫山泉钟睒睒三度蝉联首富，马化腾重回第二，黄峥首次...      03月28日 19:58"
      ]
     },
     "execution_count": 77,
     "metadata": {},
     "output_type": "execute_result"
    }
   ],
   "source": [
    "data.head()"
   ]
  },
  {
   "cell_type": "code",
   "execution_count": 78,
   "metadata": {},
   "outputs": [
    {
     "name": "stderr",
     "output_type": "stream",
     "text": [
      "C:\\Users\\admin\\AppData\\Local\\Temp/ipykernel_18188/3678077356.py:4: FutureWarning: The default value of regex will change from True to False in a future version.\n",
      "  data['text'] = data['text'].str.replace('^[0-9]*$', '')\n"
     ]
    }
   ],
   "source": [
    "#空值处理---excel上已处理\n",
    "# 剔除纯数字评论，先将其转为空字符串，之后对空字符串统一处理。\n",
    "#用空字符串('')替换纯数字('123')\n",
    "data['text'] = data['text'].str.replace('^[0-9]*$', '')\n"
   ]
  },
  {
   "cell_type": "code",
   "execution_count": 79,
   "metadata": {},
   "outputs": [
    {
     "name": "stderr",
     "output_type": "stream",
     "text": [
      "C:\\Users\\admin\\AppData\\Local\\Temp/ipykernel_18188/3439404758.py:2: FutureWarning: The default value of regex will change from True to False in a future version.\n",
      "  data['text'] = data['text'].str.replace(r'^(.)\\1*$', '')\n"
     ]
    }
   ],
   "source": [
    "# 剔除单一重复字符的评论;用空字符串('')替换('111','aaa','....')等\n",
    "data['text'] = data['text'].str.replace(r'^(.)\\1*$', '')\n"
   ]
  },
  {
   "cell_type": "code",
   "execution_count": 80,
   "metadata": {},
   "outputs": [
    {
     "name": "stderr",
     "output_type": "stream",
     "text": [
      "C:\\Users\\admin\\AppData\\Local\\Temp/ipykernel_18188/3327904572.py:2: FutureWarning: The default value of regex will change from True to False in a future version.\n",
      "  data['text'] = data['text'].str.replace(r'\\d+/\\d+/\\d+ \\d+:\\d+:\\d+', '')\n"
     ]
    }
   ],
   "source": [
    "# 将评论中的时间转为空字符;用空字符串('')替换('2020/11/20 20:00:00')等\n",
    "data['text'] = data['text'].str.replace(r'\\d+/\\d+/\\d+ \\d+:\\d+:\\d+', '')\n"
   ]
  },
  {
   "cell_type": "code",
   "execution_count": 81,
   "metadata": {},
   "outputs": [
    {
     "data": {
      "text/plain": [
       "3739"
      ]
     },
     "execution_count": 81,
     "metadata": {},
     "output_type": "execute_result"
    }
   ],
   "source": [
    "#统计重复数字\n",
    "data[['text']].duplicated().sum()"
   ]
  },
  {
   "cell_type": "code",
   "execution_count": 82,
   "metadata": {},
   "outputs": [
    {
     "data": {
      "text/html": [
       "<div>\n",
       "<style scoped>\n",
       "    .dataframe tbody tr th:only-of-type {\n",
       "        vertical-align: middle;\n",
       "    }\n",
       "\n",
       "    .dataframe tbody tr th {\n",
       "        vertical-align: top;\n",
       "    }\n",
       "\n",
       "    .dataframe thead th {\n",
       "        text-align: right;\n",
       "    }\n",
       "</style>\n",
       "<table border=\"1\" class=\"dataframe\">\n",
       "  <thead>\n",
       "    <tr style=\"text-align: right;\">\n",
       "      <th></th>\n",
       "      <th>text</th>\n",
       "      <th>Release time</th>\n",
       "    </tr>\n",
       "  </thead>\n",
       "  <tbody>\n",
       "    <tr>\n",
       "      <th>0</th>\n",
       "      <td>#????? ???????#\\n\\n前几天用农夫山泉的虎年纪念瓶插了花，据说这个瓶身设计是...</td>\n",
       "      <td>03月20日 10:50</td>\n",
       "    </tr>\n",
       "    <tr>\n",
       "      <th>1</th>\n",
       "      <td>#_啵崽の糕鸭##你还喝农夫山泉吗#卧槽，吓死了真的是，这个话题就不能说清楚吗？以为有什么事...</td>\n",
       "      <td>03月29日 10:46</td>\n",
       "    </tr>\n",
       "    <tr>\n",
       "      <th>2</th>\n",
       "      <td>#1067喇叭花快报# ?▲国家企业信用信息公示系统显示，浙江农夫山泉饮用水有限公司已注销。...</td>\n",
       "      <td>03月28日 23:43</td>\n",
       "    </tr>\n",
       "    <tr>\n",
       "      <th>3</th>\n",
       "      <td>#2023胡润百富榜发布#</td>\n",
       "      <td>2023/10/24 19:39</td>\n",
       "    </tr>\n",
       "    <tr>\n",
       "      <th>4</th>\n",
       "      <td>#2023胡润百富榜发布#【胡润百富榜：农夫山泉钟睒睒三度蝉联首富，马化腾重回第二，黄峥首次...</td>\n",
       "      <td>03月28日 19:58</td>\n",
       "    </tr>\n",
       "  </tbody>\n",
       "</table>\n",
       "</div>"
      ],
      "text/plain": [
       "                                                text      Release time\n",
       "0  #????? ???????#\\n\\n前几天用农夫山泉的虎年纪念瓶插了花，据说这个瓶身设计是...      03月20日 10:50\n",
       "1  #_啵崽の糕鸭##你还喝农夫山泉吗#卧槽，吓死了真的是，这个话题就不能说清楚吗？以为有什么事...      03月29日 10:46\n",
       "2  #1067喇叭花快报# ?▲国家企业信用信息公示系统显示，浙江农夫山泉饮用水有限公司已注销。...      03月28日 23:43\n",
       "3                                      #2023胡润百富榜发布#  2023/10/24 19:39\n",
       "4  #2023胡润百富榜发布#【胡润百富榜：农夫山泉钟睒睒三度蝉联首富，马化腾重回第二，黄峥首次...      03月28日 19:58"
      ]
     },
     "execution_count": 82,
     "metadata": {},
     "output_type": "execute_result"
    }
   ],
   "source": [
    "data.head()"
   ]
  },
  {
   "cell_type": "code",
   "execution_count": 83,
   "metadata": {},
   "outputs": [
    {
     "data": {
      "text/html": [
       "<div>\n",
       "<style scoped>\n",
       "    .dataframe tbody tr th:only-of-type {\n",
       "        vertical-align: middle;\n",
       "    }\n",
       "\n",
       "    .dataframe tbody tr th {\n",
       "        vertical-align: top;\n",
       "    }\n",
       "\n",
       "    .dataframe thead th {\n",
       "        text-align: right;\n",
       "    }\n",
       "</style>\n",
       "<table border=\"1\" class=\"dataframe\">\n",
       "  <thead>\n",
       "    <tr style=\"text-align: right;\">\n",
       "      <th></th>\n",
       "      <th>text</th>\n",
       "      <th>Release time</th>\n",
       "    </tr>\n",
       "  </thead>\n",
       "  <tbody>\n",
       "    <tr>\n",
       "      <th>0</th>\n",
       "      <td>#????? ???????#\\n\\n前几天用农夫山泉的虎年纪念瓶插了花，据说这个瓶身设计是...</td>\n",
       "      <td>03月20日 10:50</td>\n",
       "    </tr>\n",
       "    <tr>\n",
       "      <th>1</th>\n",
       "      <td>#_啵崽の糕鸭##你还喝农夫山泉吗#卧槽，吓死了真的是，这个话题就不能说清楚吗？以为有什么事...</td>\n",
       "      <td>03月29日 10:46</td>\n",
       "    </tr>\n",
       "    <tr>\n",
       "      <th>2</th>\n",
       "      <td>#1067喇叭花快报# ?▲国家企业信用信息公示系统显示，浙江农夫山泉饮用水有限公司已注销。...</td>\n",
       "      <td>03月28日 23:43</td>\n",
       "    </tr>\n",
       "    <tr>\n",
       "      <th>3</th>\n",
       "      <td>#2023胡润百富榜发布#</td>\n",
       "      <td>2023/10/24 19:39</td>\n",
       "    </tr>\n",
       "    <tr>\n",
       "      <th>4</th>\n",
       "      <td>#2023胡润百富榜发布#【胡润百富榜：农夫山泉钟睒睒三度蝉联首富，马化腾重回第二，黄峥首次...</td>\n",
       "      <td>03月28日 19:58</td>\n",
       "    </tr>\n",
       "  </tbody>\n",
       "</table>\n",
       "</div>"
      ],
      "text/plain": [
       "                                                text      Release time\n",
       "0  #????? ???????#\\n\\n前几天用农夫山泉的虎年纪念瓶插了花，据说这个瓶身设计是...      03月20日 10:50\n",
       "1  #_啵崽の糕鸭##你还喝农夫山泉吗#卧槽，吓死了真的是，这个话题就不能说清楚吗？以为有什么事...      03月29日 10:46\n",
       "2  #1067喇叭花快报# ?▲国家企业信用信息公示系统显示，浙江农夫山泉饮用水有限公司已注销。...      03月28日 23:43\n",
       "3                                      #2023胡润百富榜发布#  2023/10/24 19:39\n",
       "4  #2023胡润百富榜发布#【胡润百富榜：农夫山泉钟睒睒三度蝉联首富，马化腾重回第二，黄峥首次...      03月28日 19:58"
      ]
     },
     "execution_count": 83,
     "metadata": {},
     "output_type": "execute_result"
    }
   ],
   "source": [
    "#评论去重\n",
    "data = data.drop_duplicates(subset=['text'])\n",
    "\n",
    "#会将标签重新从零开始顺序排序,使用参数设置drop=True删除旧的索引序列\n",
    "data = data.reset_index(drop=True)\n",
    "data = data[['text','Release time']]\n",
    "data.head()"
   ]
  },
  {
   "cell_type": "code",
   "execution_count": 84,
   "metadata": {},
   "outputs": [
    {
     "data": {
      "text/plain": [
       "(42431,)"
      ]
     },
     "execution_count": 84,
     "metadata": {},
     "output_type": "execute_result"
    }
   ],
   "source": [
    "# 提取评论列\n",
    "text = data['text']\n",
    "\n",
    "# 删除##之间的文字\n",
    "pattern = re.compile(r'#.*?#|【.*?】')\n",
    "\n",
    "# 使用lambda函数对评论进行处理\n",
    "text = text.astype(str).apply(lambda x: re.sub(pattern, '+', x) if '#' in x else x)\n",
    "\n",
    "text.shape\n",
    "\n"
   ]
  },
  {
   "cell_type": "code",
   "execution_count": 85,
   "metadata": {},
   "outputs": [
    {
     "name": "stdout",
     "output_type": "stream",
     "text": [
      "0        +\\n\\n前几天用农夫山泉的虎年纪念瓶插了花，据说这个瓶身设计是只送不卖的，很有收藏价值。感...\n",
      "1                       ++卧槽，吓死了真的是，这个话题就不能说清楚吗？以为有什么事了+ ?\n",
      "2        + ?▲国家企业信用信息公示系统显示，浙江农夫山泉饮用水有限公司已注销。网站信息显示，该公司...\n",
      "3                                                        +\n",
      "4        ++近日，胡润百富榜发布，农夫山泉钟睒睒以4500亿第三次成为中国首富，腾讯马化腾继2020...\n",
      "                               ...                        \n",
      "42426                                            没有条码，不能零售\n",
      "42427                                            防止你用外面的替换\n",
      "42428                                     防串货，毫升数和正常零售会有不同\n",
      "42429         看你住什么酒店，好点的酒店是怡宝和依云，我在扬州住的酒店都是依云，农夫就是用来冲马桶的。\n",
      "42430                             酒店供应的农夫就是用来冲马桶的，从来不喝，恶心。\n",
      "Name: text, Length: 42431, dtype: object\n"
     ]
    }
   ],
   "source": [
    "# 更新数据\n",
    "data['text'] = text\n",
    "# 打印更新后的数据\n",
    "print(data['text'])"
   ]
  },
  {
   "cell_type": "code",
   "execution_count": 86,
   "metadata": {},
   "outputs": [],
   "source": [
    "# 去掉一些无用的字符，自行定一个字符几何，并从文本中去掉\n",
    "#去除字母数字表情和其它字符\n",
    "import re\n",
    "def clear_character(sentence):\n",
    "    pattern1='[a-zA-Z0-9]'\n",
    "    pattern2 = re.compile(u'[^\\s1234567890:：' + '\\u4e00-\\u9fa5]+')\n",
    "    pattern3='[’!\"#$%&\\'()*+,-./:;<=>?@[\\\\]^_`{|}~]+'\n",
    "    line1=re.sub(pattern1,'',sentence)   #去除英文字母和数字\n",
    "    line2=re.sub(pattern2,'',line1)   #去除表情和其他字符\n",
    "    line3=re.sub(pattern3,'',line2)   #去除去掉残留的冒号及其它符号\n",
    "    new_sentence=''.join(line3.split()) #去除空白\n",
    "    return new_sentence"
   ]
  },
  {
   "cell_type": "code",
   "execution_count": 87,
   "metadata": {},
   "outputs": [
    {
     "data": {
      "text/html": [
       "<div>\n",
       "<style scoped>\n",
       "    .dataframe tbody tr th:only-of-type {\n",
       "        vertical-align: middle;\n",
       "    }\n",
       "\n",
       "    .dataframe tbody tr th {\n",
       "        vertical-align: top;\n",
       "    }\n",
       "\n",
       "    .dataframe thead th {\n",
       "        text-align: right;\n",
       "    }\n",
       "</style>\n",
       "<table border=\"1\" class=\"dataframe\">\n",
       "  <thead>\n",
       "    <tr style=\"text-align: right;\">\n",
       "      <th></th>\n",
       "      <th>text</th>\n",
       "      <th>Release time</th>\n",
       "    </tr>\n",
       "  </thead>\n",
       "  <tbody>\n",
       "    <tr>\n",
       "      <th>0</th>\n",
       "      <td>+\\n\\n前几天用农夫山泉的虎年纪念瓶插了花，据说这个瓶身设计是只送不卖的，很有收藏价值。感...</td>\n",
       "      <td>03月20日 10:50</td>\n",
       "    </tr>\n",
       "    <tr>\n",
       "      <th>1</th>\n",
       "      <td>++卧槽，吓死了真的是，这个话题就不能说清楚吗？以为有什么事了+ ?</td>\n",
       "      <td>03月29日 10:46</td>\n",
       "    </tr>\n",
       "    <tr>\n",
       "      <th>2</th>\n",
       "      <td>+ ?▲国家企业信用信息公示系统显示，浙江农夫山泉饮用水有限公司已注销。网站信息显示，该公司...</td>\n",
       "      <td>03月28日 23:43</td>\n",
       "    </tr>\n",
       "    <tr>\n",
       "      <th>3</th>\n",
       "      <td>+</td>\n",
       "      <td>2023/10/24 19:39</td>\n",
       "    </tr>\n",
       "    <tr>\n",
       "      <th>4</th>\n",
       "      <td>++近日，胡润百富榜发布，农夫山泉钟睒睒以4500亿第三次成为中国首富，腾讯马化腾继2020...</td>\n",
       "      <td>03月28日 19:58</td>\n",
       "    </tr>\n",
       "  </tbody>\n",
       "</table>\n",
       "</div>"
      ],
      "text/plain": [
       "                                                text      Release time\n",
       "0  +\\n\\n前几天用农夫山泉的虎年纪念瓶插了花，据说这个瓶身设计是只送不卖的，很有收藏价值。感...      03月20日 10:50\n",
       "1                 ++卧槽，吓死了真的是，这个话题就不能说清楚吗？以为有什么事了+ ?      03月29日 10:46\n",
       "2  + ?▲国家企业信用信息公示系统显示，浙江农夫山泉饮用水有限公司已注销。网站信息显示，该公司...      03月28日 23:43\n",
       "3                                                  +  2023/10/24 19:39\n",
       "4  ++近日，胡润百富榜发布，农夫山泉钟睒睒以4500亿第三次成为中国首富，腾讯马化腾继2020...      03月28日 19:58"
      ]
     },
     "execution_count": 87,
     "metadata": {},
     "output_type": "execute_result"
    }
   ],
   "source": [
    "data.head()"
   ]
  },
  {
   "cell_type": "code",
   "execution_count": 88,
   "metadata": {},
   "outputs": [
    {
     "data": {
      "text/plain": [
       "0        False\n",
       "1        False\n",
       "2        False\n",
       "3        False\n",
       "4        False\n",
       "         ...  \n",
       "42426    False\n",
       "42427    False\n",
       "42428    False\n",
       "42429    False\n",
       "42430    False\n",
       "Name: text, Length: 42431, dtype: bool"
      ]
     },
     "execution_count": 88,
     "metadata": {},
     "output_type": "execute_result"
    }
   ],
   "source": [
    "data['text'].isnull()"
   ]
  },
  {
   "cell_type": "code",
   "execution_count": 89,
   "metadata": {},
   "outputs": [
    {
     "data": {
      "text/html": [
       "<div>\n",
       "<style scoped>\n",
       "    .dataframe tbody tr th:only-of-type {\n",
       "        vertical-align: middle;\n",
       "    }\n",
       "\n",
       "    .dataframe tbody tr th {\n",
       "        vertical-align: top;\n",
       "    }\n",
       "\n",
       "    .dataframe thead th {\n",
       "        text-align: right;\n",
       "    }\n",
       "</style>\n",
       "<table border=\"1\" class=\"dataframe\">\n",
       "  <thead>\n",
       "    <tr style=\"text-align: right;\">\n",
       "      <th></th>\n",
       "      <th>text</th>\n",
       "      <th>Release time</th>\n",
       "    </tr>\n",
       "  </thead>\n",
       "  <tbody>\n",
       "    <tr>\n",
       "      <th>0</th>\n",
       "      <td>前几天用农夫山泉的虎年纪念瓶插了花据说这个瓶身设计是只送不卖的很有收藏价值感觉现在的年货越来...</td>\n",
       "      <td>03月20日 10:50</td>\n",
       "    </tr>\n",
       "    <tr>\n",
       "      <th>1</th>\n",
       "      <td>卧槽吓死了真的是这个话题就不能说清楚吗以为有什么事了</td>\n",
       "      <td>03月29日 10:46</td>\n",
       "    </tr>\n",
       "    <tr>\n",
       "      <th>2</th>\n",
       "      <td>国家企业信用信息公示系统显示浙江农夫山泉饮用水有限公司已注销网站信息显示该公司法定代表人为钟...</td>\n",
       "      <td>03月28日 23:43</td>\n",
       "    </tr>\n",
       "    <tr>\n",
       "      <th>3</th>\n",
       "      <td></td>\n",
       "      <td>2023/10/24 19:39</td>\n",
       "    </tr>\n",
       "    <tr>\n",
       "      <th>4</th>\n",
       "      <td>近日胡润百富榜发布农夫山泉钟睒睒以亿第三次成为中国首富腾讯马化腾继年之后重回第二拼多多黄峥以...</td>\n",
       "      <td>03月28日 19:58</td>\n",
       "    </tr>\n",
       "  </tbody>\n",
       "</table>\n",
       "</div>"
      ],
      "text/plain": [
       "                                                text      Release time\n",
       "0  前几天用农夫山泉的虎年纪念瓶插了花据说这个瓶身设计是只送不卖的很有收藏价值感觉现在的年货越来...      03月20日 10:50\n",
       "1                         卧槽吓死了真的是这个话题就不能说清楚吗以为有什么事了      03月29日 10:46\n",
       "2  国家企业信用信息公示系统显示浙江农夫山泉饮用水有限公司已注销网站信息显示该公司法定代表人为钟...      03月28日 23:43\n",
       "3                                                     2023/10/24 19:39\n",
       "4  近日胡润百富榜发布农夫山泉钟睒睒以亿第三次成为中国首富腾讯马化腾继年之后重回第二拼多多黄峥以...      03月28日 19:58"
      ]
     },
     "execution_count": 89,
     "metadata": {},
     "output_type": "execute_result"
    }
   ],
   "source": [
    "#在[\"评论\"]这一列使用定义的\"clear_character\"函数\n",
    "data['text']=data['text'].apply(clear_character)\n",
    "data.head()"
   ]
  },
  {
   "cell_type": "code",
   "execution_count": 90,
   "metadata": {},
   "outputs": [
    {
     "data": {
      "text/plain": [
       "0        False\n",
       "1        False\n",
       "2        False\n",
       "3        False\n",
       "4        False\n",
       "         ...  \n",
       "42426    False\n",
       "42427    False\n",
       "42428    False\n",
       "42429    False\n",
       "42430    False\n",
       "Name: text, Length: 42431, dtype: bool"
      ]
     },
     "execution_count": 90,
     "metadata": {},
     "output_type": "execute_result"
    }
   ],
   "source": [
    "data['text'].isnull()"
   ]
  },
  {
   "cell_type": "code",
   "execution_count": 91,
   "metadata": {},
   "outputs": [
    {
     "name": "stderr",
     "output_type": "stream",
     "text": [
      "apply: 100%|██████████| 42431/42431 [00:06<00:00, 6804.91it/s]\n"
     ]
    },
    {
     "data": {
      "text/html": [
       "<div>\n",
       "<style scoped>\n",
       "    .dataframe tbody tr th:only-of-type {\n",
       "        vertical-align: middle;\n",
       "    }\n",
       "\n",
       "    .dataframe tbody tr th {\n",
       "        vertical-align: top;\n",
       "    }\n",
       "\n",
       "    .dataframe thead th {\n",
       "        text-align: right;\n",
       "    }\n",
       "</style>\n",
       "<table border=\"1\" class=\"dataframe\">\n",
       "  <thead>\n",
       "    <tr style=\"text-align: right;\">\n",
       "      <th></th>\n",
       "      <th>text</th>\n",
       "      <th>Release time</th>\n",
       "      <th>text_processed</th>\n",
       "    </tr>\n",
       "  </thead>\n",
       "  <tbody>\n",
       "    <tr>\n",
       "      <th>0</th>\n",
       "      <td>前几天用农夫山泉的虎年纪念瓶插了花据说这个瓶身设计是只送不卖的很有收藏价值感觉现在的年货越来...</td>\n",
       "      <td>03月20日 10:50</td>\n",
       "      <td>[前, 几天, 用, 农夫山泉, 的, 虎年, 纪念, 瓶, 插, 了, 花, 据说, 这个...</td>\n",
       "    </tr>\n",
       "    <tr>\n",
       "      <th>1</th>\n",
       "      <td>卧槽吓死了真的是这个话题就不能说清楚吗以为有什么事了</td>\n",
       "      <td>03月29日 10:46</td>\n",
       "      <td>[卧槽, 吓死, 了, 真的, 是, 这个, 话题, 就, 不能, 说, 清楚, 吗, 以为...</td>\n",
       "    </tr>\n",
       "    <tr>\n",
       "      <th>2</th>\n",
       "      <td>国家企业信用信息公示系统显示浙江农夫山泉饮用水有限公司已注销网站信息显示该公司法定代表人为钟...</td>\n",
       "      <td>03月28日 23:43</td>\n",
       "      <td>[国家, 企业信用, 信息, 公示, 系统, 显示, 浙江, 农夫山泉, 饮用水, 有限公司...</td>\n",
       "    </tr>\n",
       "    <tr>\n",
       "      <th>3</th>\n",
       "      <td></td>\n",
       "      <td>2023/10/24 19:39</td>\n",
       "      <td>[]</td>\n",
       "    </tr>\n",
       "    <tr>\n",
       "      <th>4</th>\n",
       "      <td>近日胡润百富榜发布农夫山泉钟睒睒以亿第三次成为中国首富腾讯马化腾继年之后重回第二拼多多黄峥以...</td>\n",
       "      <td>03月28日 19:58</td>\n",
       "      <td>[近日, 胡润, 百富榜, 发布, 农夫山泉, 钟睒睒, 以, 亿, 第三次, 成为, 中国...</td>\n",
       "    </tr>\n",
       "  </tbody>\n",
       "</table>\n",
       "</div>"
      ],
      "text/plain": [
       "                                                text      Release time  \\\n",
       "0  前几天用农夫山泉的虎年纪念瓶插了花据说这个瓶身设计是只送不卖的很有收藏价值感觉现在的年货越来...      03月20日 10:50   \n",
       "1                         卧槽吓死了真的是这个话题就不能说清楚吗以为有什么事了      03月29日 10:46   \n",
       "2  国家企业信用信息公示系统显示浙江农夫山泉饮用水有限公司已注销网站信息显示该公司法定代表人为钟...      03月28日 23:43   \n",
       "3                                                     2023/10/24 19:39   \n",
       "4  近日胡润百富榜发布农夫山泉钟睒睒以亿第三次成为中国首富腾讯马化腾继年之后重回第二拼多多黄峥以...      03月28日 19:58   \n",
       "\n",
       "                                      text_processed  \n",
       "0  [前, 几天, 用, 农夫山泉, 的, 虎年, 纪念, 瓶, 插, 了, 花, 据说, 这个...  \n",
       "1  [卧槽, 吓死, 了, 真的, 是, 这个, 话题, 就, 不能, 说, 清楚, 吗, 以为...  \n",
       "2  [国家, 企业信用, 信息, 公示, 系统, 显示, 浙江, 农夫山泉, 饮用水, 有限公司...  \n",
       "3                                                 []  \n",
       "4  [近日, 胡润, 百富榜, 发布, 农夫山泉, 钟睒睒, 以, 亿, 第三次, 成为, 中国...  "
      ]
     },
     "execution_count": 91,
     "metadata": {},
     "output_type": "execute_result"
    }
   ],
   "source": [
    "# 导入中文分词包jieba, 并用jieba对原始文本做分词\n",
    "import jieba\n",
    "from tqdm import tqdm\n",
    "jieba.load_userdict(\"dic.txt\")\n",
    "def text_cut(text):\n",
    "    # TODO: 使用结巴完成对每一个comment的分词\n",
    "#     seg = jieba.lcut(content)\n",
    "    seg = list(jieba.cut(text.strip()))\n",
    "    return seg\n",
    "# 输出进度条\n",
    "tqdm.pandas(desc='apply')\n",
    "data['text_processed'] = data['text'].progress_apply(text_cut)\n",
    "# 观察新的数据的格式\n",
    "data.head()"
   ]
  },
  {
   "cell_type": "code",
   "execution_count": 92,
   "metadata": {},
   "outputs": [],
   "source": [
    "# 读取下载的停用词表，并保存在列表中\n",
    "with open('C:\\\\Users\\\\admin\\\\Desktop\\\\nlpp\\\\STOP_words.txt',\"r\",encoding='utf-8') as f:\n",
    "    stopWords = f.read().split(\"\\n\")  \n",
    "    "
   ]
  },
  {
   "cell_type": "code",
   "execution_count": 93,
   "metadata": {},
   "outputs": [
    {
     "name": "stderr",
     "output_type": "stream",
     "text": [
      "apply: 100%|██████████| 42431/42431 [00:25<00:00, 1686.09it/s]\n"
     ]
    },
    {
     "data": {
      "text/html": [
       "<div>\n",
       "<style scoped>\n",
       "    .dataframe tbody tr th:only-of-type {\n",
       "        vertical-align: middle;\n",
       "    }\n",
       "\n",
       "    .dataframe tbody tr th {\n",
       "        vertical-align: top;\n",
       "    }\n",
       "\n",
       "    .dataframe thead th {\n",
       "        text-align: right;\n",
       "    }\n",
       "</style>\n",
       "<table border=\"1\" class=\"dataframe\">\n",
       "  <thead>\n",
       "    <tr style=\"text-align: right;\">\n",
       "      <th></th>\n",
       "      <th>text</th>\n",
       "      <th>Release time</th>\n",
       "      <th>text_processed</th>\n",
       "    </tr>\n",
       "  </thead>\n",
       "  <tbody>\n",
       "    <tr>\n",
       "      <th>0</th>\n",
       "      <td>前几天用农夫山泉的虎年纪念瓶插了花据说这个瓶身设计是只送不卖的很有收藏价值感觉现在的年货越来...</td>\n",
       "      <td>03月20日 10:50</td>\n",
       "      <td>[前, 几天, 农夫山泉, 虎年, 纪念, 瓶, 插, 花, 瓶身, 设计, 送, 卖, 收...</td>\n",
       "    </tr>\n",
       "    <tr>\n",
       "      <th>1</th>\n",
       "      <td>卧槽吓死了真的是这个话题就不能说清楚吗以为有什么事了</td>\n",
       "      <td>03月29日 10:46</td>\n",
       "      <td>[卧槽, 吓死, 真的, 话题, 说, 事]</td>\n",
       "    </tr>\n",
       "    <tr>\n",
       "      <th>2</th>\n",
       "      <td>国家企业信用信息公示系统显示浙江农夫山泉饮用水有限公司已注销网站信息显示该公司法定代表人为钟...</td>\n",
       "      <td>03月28日 23:43</td>\n",
       "      <td>[国家, 企业信用, 信息, 公示, 系统, 显示, 浙江, 农夫山泉, 饮用水, 有限公司...</td>\n",
       "    </tr>\n",
       "    <tr>\n",
       "      <th>3</th>\n",
       "      <td></td>\n",
       "      <td>2023/10/24 19:39</td>\n",
       "      <td>[]</td>\n",
       "    </tr>\n",
       "    <tr>\n",
       "      <th>4</th>\n",
       "      <td>近日胡润百富榜发布农夫山泉钟睒睒以亿第三次成为中国首富腾讯马化腾继年之后重回第二拼多多黄峥以...</td>\n",
       "      <td>03月28日 19:58</td>\n",
       "      <td>[近日, 胡润, 百富榜, 发布, 农夫山泉, 钟睒睒, 亿, 第三次, 中国, 首富, 腾...</td>\n",
       "    </tr>\n",
       "  </tbody>\n",
       "</table>\n",
       "</div>"
      ],
      "text/plain": [
       "                                                text      Release time  \\\n",
       "0  前几天用农夫山泉的虎年纪念瓶插了花据说这个瓶身设计是只送不卖的很有收藏价值感觉现在的年货越来...      03月20日 10:50   \n",
       "1                         卧槽吓死了真的是这个话题就不能说清楚吗以为有什么事了      03月29日 10:46   \n",
       "2  国家企业信用信息公示系统显示浙江农夫山泉饮用水有限公司已注销网站信息显示该公司法定代表人为钟...      03月28日 23:43   \n",
       "3                                                     2023/10/24 19:39   \n",
       "4  近日胡润百富榜发布农夫山泉钟睒睒以亿第三次成为中国首富腾讯马化腾继年之后重回第二拼多多黄峥以...      03月28日 19:58   \n",
       "\n",
       "                                      text_processed  \n",
       "0  [前, 几天, 农夫山泉, 虎年, 纪念, 瓶, 插, 花, 瓶身, 设计, 送, 卖, 收...  \n",
       "1                             [卧槽, 吓死, 真的, 话题, 说, 事]  \n",
       "2  [国家, 企业信用, 信息, 公示, 系统, 显示, 浙江, 农夫山泉, 饮用水, 有限公司...  \n",
       "3                                                 []  \n",
       "4  [近日, 胡润, 百富榜, 发布, 农夫山泉, 钟睒睒, 亿, 第三次, 中国, 首富, 腾...  "
      ]
     },
     "execution_count": 93,
     "metadata": {},
     "output_type": "execute_result"
    }
   ],
   "source": [
    "# 去除停用词\n",
    "def rm_stop_word(wordList):\n",
    "    # your code, remove stop words\n",
    "    # TODO\n",
    "    #outstr = ''\n",
    "    # 去停用词\n",
    "    #for word in wordList:\n",
    "       # if word not in stopWords:\n",
    "           # if word != '\\t':\n",
    "                #outstr += word\n",
    "                #outstr += \" \"\n",
    "    #return outstr\n",
    "    filtered_words = [word for word in wordList if word not in stopWords]\n",
    "    return filtered_words\n",
    "    #return \" \".join(filtered_words)\n",
    "#这行代码中.progress_apply()函数的作用等同于.apply()函数的作用，只是写成.progress_apply()函数才能被tqdm包监控从而输出进度条。\n",
    "data['text_processed'] = data['text_processed'].progress_apply(rm_stop_word)\n",
    "# 观察新的数据的格式\n",
    "data.head()"
   ]
  },
  {
   "cell_type": "code",
   "execution_count": 94,
   "metadata": {},
   "outputs": [
    {
     "name": "stderr",
     "output_type": "stream",
     "text": [
      "apply: 100%|██████████| 42431/42431 [00:00<00:00, 249017.76it/s]\n"
     ]
    },
    {
     "data": {
      "text/html": [
       "<div>\n",
       "<style scoped>\n",
       "    .dataframe tbody tr th:only-of-type {\n",
       "        vertical-align: middle;\n",
       "    }\n",
       "\n",
       "    .dataframe tbody tr th {\n",
       "        vertical-align: top;\n",
       "    }\n",
       "\n",
       "    .dataframe thead th {\n",
       "        text-align: right;\n",
       "    }\n",
       "</style>\n",
       "<table border=\"1\" class=\"dataframe\">\n",
       "  <thead>\n",
       "    <tr style=\"text-align: right;\">\n",
       "      <th></th>\n",
       "      <th>text</th>\n",
       "      <th>Release time</th>\n",
       "      <th>text_processed</th>\n",
       "    </tr>\n",
       "  </thead>\n",
       "  <tbody>\n",
       "    <tr>\n",
       "      <th>0</th>\n",
       "      <td>前几天用农夫山泉的虎年纪念瓶插了花据说这个瓶身设计是只送不卖的很有收藏价值感觉现在的年货越来...</td>\n",
       "      <td>03月20日 10:50</td>\n",
       "      <td>前 几天 农夫山泉 虎年 纪念 瓶 插 花 瓶身 设计 送 卖 收藏 价值 感觉 年货 越来...</td>\n",
       "    </tr>\n",
       "    <tr>\n",
       "      <th>1</th>\n",
       "      <td>卧槽吓死了真的是这个话题就不能说清楚吗以为有什么事了</td>\n",
       "      <td>03月29日 10:46</td>\n",
       "      <td>卧槽 吓死 真的 话题 说 事</td>\n",
       "    </tr>\n",
       "    <tr>\n",
       "      <th>2</th>\n",
       "      <td>国家企业信用信息公示系统显示浙江农夫山泉饮用水有限公司已注销网站信息显示该公司法定代表人为钟...</td>\n",
       "      <td>03月28日 23:43</td>\n",
       "      <td>国家 企业信用 信息 公示 系统 显示 浙江 农夫山泉 饮用水 有限公司 注销 网站 信息 ...</td>\n",
       "    </tr>\n",
       "    <tr>\n",
       "      <th>3</th>\n",
       "      <td></td>\n",
       "      <td>2023/10/24 19:39</td>\n",
       "      <td></td>\n",
       "    </tr>\n",
       "    <tr>\n",
       "      <th>4</th>\n",
       "      <td>近日胡润百富榜发布农夫山泉钟睒睒以亿第三次成为中国首富腾讯马化腾继年之后重回第二拼多多黄峥以...</td>\n",
       "      <td>03月28日 19:58</td>\n",
       "      <td>近日 胡润 百富榜 发布 农夫山泉 钟睒睒 亿 第三次 中国 首富 腾讯 马化腾 继年 重回...</td>\n",
       "    </tr>\n",
       "  </tbody>\n",
       "</table>\n",
       "</div>"
      ],
      "text/plain": [
       "                                                text      Release time  \\\n",
       "0  前几天用农夫山泉的虎年纪念瓶插了花据说这个瓶身设计是只送不卖的很有收藏价值感觉现在的年货越来...      03月20日 10:50   \n",
       "1                         卧槽吓死了真的是这个话题就不能说清楚吗以为有什么事了      03月29日 10:46   \n",
       "2  国家企业信用信息公示系统显示浙江农夫山泉饮用水有限公司已注销网站信息显示该公司法定代表人为钟...      03月28日 23:43   \n",
       "3                                                     2023/10/24 19:39   \n",
       "4  近日胡润百富榜发布农夫山泉钟睒睒以亿第三次成为中国首富腾讯马化腾继年之后重回第二拼多多黄峥以...      03月28日 19:58   \n",
       "\n",
       "                                      text_processed  \n",
       "0  前 几天 农夫山泉 虎年 纪念 瓶 插 花 瓶身 设计 送 卖 收藏 价值 感觉 年货 越来...  \n",
       "1                                   卧槽 吓死 真的 话题 说 事   \n",
       "2  国家 企业信用 信息 公示 系统 显示 浙江 农夫山泉 饮用水 有限公司 注销 网站 信息 ...  \n",
       "3                                                     \n",
       "4  近日 胡润 百富榜 发布 农夫山泉 钟睒睒 亿 第三次 中国 首富 腾讯 马化腾 继年 重回...  "
      ]
     },
     "execution_count": 94,
     "metadata": {},
     "output_type": "execute_result"
    }
   ],
   "source": [
    "# 去除低频词, 去掉词频小于10的单词，并把结果存放在data['comment_processed']里\n",
    "from collections import Counter\n",
    "list_set = []\n",
    "for i in range(len(data)):\n",
    "    for j in data.iloc[i]['text_processed']: \n",
    "        list_set.extend(j)\n",
    "        \n",
    "words_count = Counter(list_set)\n",
    " \n",
    "min_threshold=10\n",
    "my_dict = {k: v for k, v in words_count.items() if v < min_threshold}\n",
    "filteredA = Counter(my_dict)\n",
    " \n",
    "# 去除低频词\n",
    "def rm_low_frequence_word(wordList):\n",
    "    # your code, remove stop words\n",
    "    # TODO\n",
    "    outstr = ''\n",
    "    for word in wordList:\n",
    "        if word not in filteredA:\n",
    "            if word != '\\t':\n",
    "                outstr += word\n",
    "                outstr += \" \"\n",
    "    #filtered_words = [word for word in wordList if word not in filteredA]\n",
    "    return outstr\n",
    "                      \n",
    "#这行代码中.progress_apply()函数的作用等同于.apply()函数的作用，只是写成.progress_apply()函数才能被tqdm包监控从而输出进度条。\n",
    "data['text_processed'] = data['text_processed'].progress_apply(rm_low_frequence_word)\n",
    "data.head()"
   ]
  },
  {
   "cell_type": "code",
   "execution_count": 44,
   "metadata": {},
   "outputs": [
    {
     "data": {
      "text/plain": [
       "0        False\n",
       "1        False\n",
       "2        False\n",
       "3        False\n",
       "4        False\n",
       "         ...  \n",
       "42426    False\n",
       "42427    False\n",
       "42428    False\n",
       "42429    False\n",
       "42430    False\n",
       "Name: text, Length: 42431, dtype: bool"
      ]
     },
     "execution_count": 44,
     "metadata": {},
     "output_type": "execute_result"
    }
   ],
   "source": [
    "data['text'].isnull()"
   ]
  },
  {
   "cell_type": "code",
   "execution_count": 40,
   "metadata": {},
   "outputs": [
    {
     "data": {
      "text/plain": [
       "0"
      ]
     },
     "execution_count": 40,
     "metadata": {},
     "output_type": "execute_result"
    }
   ],
   "source": [
    "data['text_processed'].isnull().sum()"
   ]
  },
  {
   "cell_type": "code",
   "execution_count": 74,
   "metadata": {},
   "outputs": [],
   "source": [
    "data = data.drop(data[data['text'] == ''].index)"
   ]
  },
  {
   "cell_type": "code",
   "execution_count": 75,
   "metadata": {},
   "outputs": [
    {
     "data": {
      "text/html": [
       "<div>\n",
       "<style scoped>\n",
       "    .dataframe tbody tr th:only-of-type {\n",
       "        vertical-align: middle;\n",
       "    }\n",
       "\n",
       "    .dataframe tbody tr th {\n",
       "        vertical-align: top;\n",
       "    }\n",
       "\n",
       "    .dataframe thead th {\n",
       "        text-align: right;\n",
       "    }\n",
       "</style>\n",
       "<table border=\"1\" class=\"dataframe\">\n",
       "  <thead>\n",
       "    <tr style=\"text-align: right;\">\n",
       "      <th></th>\n",
       "      <th>text</th>\n",
       "      <th>Release time</th>\n",
       "    </tr>\n",
       "  </thead>\n",
       "  <tbody>\n",
       "    <tr>\n",
       "      <th>0</th>\n",
       "      <td>前几天用农夫山泉的虎年纪念瓶插了花据说这个瓶身设计是只送不卖的很有收藏价值感觉现在的年货越来...</td>\n",
       "      <td>03月20日 10:50</td>\n",
       "    </tr>\n",
       "    <tr>\n",
       "      <th>1</th>\n",
       "      <td>卧槽吓死了真的是这个话题就不能说清楚吗以为有什么事了</td>\n",
       "      <td>03月29日 10:46</td>\n",
       "    </tr>\n",
       "    <tr>\n",
       "      <th>2</th>\n",
       "      <td>国家企业信用信息公示系统显示浙江农夫山泉饮用水有限公司已注销网站信息显示该公司法定代表人为钟...</td>\n",
       "      <td>03月28日 23:43</td>\n",
       "    </tr>\n",
       "    <tr>\n",
       "      <th>4</th>\n",
       "      <td>近日胡润百富榜发布农夫山泉钟睒睒以亿第三次成为中国首富腾讯马化腾继年之后重回第二拼多多黄峥以...</td>\n",
       "      <td>03月28日 19:58</td>\n",
       "    </tr>\n",
       "    <tr>\n",
       "      <th>5</th>\n",
       "      <td>月日胡润研究院发布的胡润百富榜显示岁的农夫山泉董事长钟睒睒以亿元连续第三次成为中国首富但较去...</td>\n",
       "      <td>03月28日 17:59</td>\n",
       "    </tr>\n",
       "  </tbody>\n",
       "</table>\n",
       "</div>"
      ],
      "text/plain": [
       "                                                text  Release time\n",
       "0  前几天用农夫山泉的虎年纪念瓶插了花据说这个瓶身设计是只送不卖的很有收藏价值感觉现在的年货越来...  03月20日 10:50\n",
       "1                         卧槽吓死了真的是这个话题就不能说清楚吗以为有什么事了  03月29日 10:46\n",
       "2  国家企业信用信息公示系统显示浙江农夫山泉饮用水有限公司已注销网站信息显示该公司法定代表人为钟...  03月28日 23:43\n",
       "4  近日胡润百富榜发布农夫山泉钟睒睒以亿第三次成为中国首富腾讯马化腾继年之后重回第二拼多多黄峥以...  03月28日 19:58\n",
       "5  月日胡润研究院发布的胡润百富榜显示岁的农夫山泉董事长钟睒睒以亿元连续第三次成为中国首富但较去...  03月28日 17:59"
      ]
     },
     "execution_count": 75,
     "metadata": {},
     "output_type": "execute_result"
    }
   ],
   "source": [
    "data.head()"
   ]
  },
  {
   "cell_type": "code",
   "execution_count": 69,
   "metadata": {},
   "outputs": [
    {
     "data": {
      "text/plain": [
       "0"
      ]
     },
     "execution_count": 69,
     "metadata": {},
     "output_type": "execute_result"
    }
   ],
   "source": [
    "data['text_processed'].isnull().sum()"
   ]
  },
  {
   "cell_type": "code",
   "execution_count": 70,
   "metadata": {},
   "outputs": [],
   "source": [
    "#将数据信息保存\n",
    "#index参数设置为False表示不保存行索引,header设置为False表示不保存列索引\n",
    "data.to_csv(\"C:\\\\Users\\\\admin\\\\Desktop\\\\nlpp\\\\Cleaned_data_all.csv\",index=False,header=True,encoding=\"utf-8\")\n"
   ]
  },
  {
   "cell_type": "code",
   "execution_count": 71,
   "metadata": {},
   "outputs": [
    {
     "name": "stdout",
     "output_type": "stream",
     "text": [
      "<class 'pandas.core.frame.DataFrame'>\n",
      "RangeIndex: 42431 entries, 0 to 42430\n",
      "Data columns (total 3 columns):\n",
      " #   Column          Non-Null Count  Dtype \n",
      "---  ------          --------------  ----- \n",
      " 0   text            42310 non-null  object\n",
      " 1   Release time    42382 non-null  object\n",
      " 2   text_processed  41916 non-null  object\n",
      "dtypes: object(3)\n",
      "memory usage: 994.6+ KB\n",
      "None\n",
      "(42431, 3)\n",
      "Index(['text', 'Release time', 'text_processed'], dtype='object')\n"
     ]
    }
   ],
   "source": [
    "#查看保存好的数据\n",
    "#路径是各自数据路径的存放地址  \n",
    "data = pd.read_csv('C:\\\\Users\\\\admin\\\\Desktop\\\\nlpp\\\\Cleaned_data_all.csv')\n",
    "#输出数据的一些相关信息\n",
    "print(data.info())\n",
    "#看数据形状 (行数, 列数)\n",
    "print(data.shape)\n",
    "# 列标签 <Index>\n",
    "print(data.columns )"
   ]
  },
  {
   "cell_type": "code",
   "execution_count": 72,
   "metadata": {},
   "outputs": [
    {
     "name": "stdout",
     "output_type": "stream",
     "text": [
      "count    42431.000000\n",
      "mean        11.197709\n",
      "std         19.443911\n",
      "min          1.000000\n",
      "25%          4.000000\n",
      "50%          6.000000\n",
      "75%         11.000000\n",
      "max        642.000000\n",
      "Name: text_len, dtype: float64\n"
     ]
    }
   ],
   "source": [
    "#统计单词的个数来得到每个句子的长度\n",
    "data['text_len'] = data['text_processed'].apply(lambda x: len(str(x).split(' ')))\n",
    "\n",
    "print(data['text_len'].describe())"
   ]
  },
  {
   "cell_type": "code",
   "execution_count": 73,
   "metadata": {},
   "outputs": [
    {
     "data": {
      "image/png": "[encoded data removed]",
      "text/plain": [
       "<Figure size 432x288 with 1 Axes>"
      ]
     },
     "metadata": {},
     "output_type": "display_data"
    }
   ],
   "source": [
    "#生成长度统计图\n",
    "_ = plt.hist(data['text_len'], bins=200)\n",
    "plt.xlabel('Text char count')\n",
    "plt.title(\"Histogram of char count\")\n",
    "#plt.savefig('./text_chart_count.png')\n",
    "plt.show()"
   ]
  },
  {
   "cell_type": "code",
   "execution_count": 74,
   "metadata": {},
   "outputs": [
    {
     "data": {
      "text/plain": [
       "0        前 几天 虎年 纪念 瓶 插 花 瓶身 设计 送 卖 收藏 价值 感觉 年货 越来越 设计 ...\n",
       "1                                         卧槽 吓死 真的 话题 说 事 \n",
       "2        国家 企业信用 信息 公示 系统 显示 浙江 饮用水 有限公司 注销 网站 信息 显示 公司...\n",
       "3                                                      NaN\n",
       "4        近日 胡润 百富榜 发布 亿 第三次 首富 腾讯 马化腾 继年 重回 拼 黄峥 亿 首次 位...\n",
       "                               ...                        \n",
       "42426                                               条码 零售 \n",
       "42427                                               外面 替换 \n",
       "42428                                        防串 货 毫升 数 零售 \n",
       "42429                   住 酒店 好点 酒店 怡宝 依云 扬州 住 酒店 依云 农夫 马桶 \n",
       "42430                                酒店 供应 农夫 马桶 从来不 喝 恶心 \n",
       "Name: text_processed, Length: 42431, dtype: object"
      ]
     },
     "execution_count": 74,
     "metadata": {},
     "output_type": "execute_result"
    }
   ],
   "source": [
    "from snownlp import SnowNLP\n",
    "data['text_processed'].isnull().sum() #一定要确保没有空值\n",
    "data['text_processed'] = data['text_processed'].dropna()\n",
    "data['text_processed']"
   ]
  },
  {
   "cell_type": "code",
   "execution_count": 75,
   "metadata": {},
   "outputs": [],
   "source": [
    "from snownlp import SnowNLP\n",
    "\n",
    "def get_sentiment(x):\n",
    "    if isinstance(x, str):  # 检查x是否为字符串类型\n",
    "        try:\n",
    "            return SnowNLP(x).sentiments\n",
    "        except:\n",
    "            return \n",
    "    else:\n",
    "        return None  # 或者根据你的需求返回其他值\n",
    "\n",
    "data['emotion'] = data['text_processed'].apply(get_sentiment)\n"
   ]
  },
  {
   "cell_type": "code",
   "execution_count": 76,
   "metadata": {},
   "outputs": [
    {
     "data": {
      "text/html": [
       "<div>\n",
       "<style scoped>\n",
       "    .dataframe tbody tr th:only-of-type {\n",
       "        vertical-align: middle;\n",
       "    }\n",
       "\n",
       "    .dataframe tbody tr th {\n",
       "        vertical-align: top;\n",
       "    }\n",
       "\n",
       "    .dataframe thead th {\n",
       "        text-align: right;\n",
       "    }\n",
       "</style>\n",
       "<table border=\"1\" class=\"dataframe\">\n",
       "  <thead>\n",
       "    <tr style=\"text-align: right;\">\n",
       "      <th></th>\n",
       "      <th>text_len</th>\n",
       "      <th>emotion</th>\n",
       "    </tr>\n",
       "  </thead>\n",
       "  <tbody>\n",
       "    <tr>\n",
       "      <th>count</th>\n",
       "      <td>42431.000000</td>\n",
       "      <td>41916.000000</td>\n",
       "    </tr>\n",
       "    <tr>\n",
       "      <th>mean</th>\n",
       "      <td>11.197709</td>\n",
       "      <td>0.533924</td>\n",
       "    </tr>\n",
       "    <tr>\n",
       "      <th>std</th>\n",
       "      <td>19.443911</td>\n",
       "      <td>0.349569</td>\n",
       "    </tr>\n",
       "    <tr>\n",
       "      <th>min</th>\n",
       "      <td>1.000000</td>\n",
       "      <td>0.000000</td>\n",
       "    </tr>\n",
       "    <tr>\n",
       "      <th>25%</th>\n",
       "      <td>4.000000</td>\n",
       "      <td>0.205499</td>\n",
       "    </tr>\n",
       "    <tr>\n",
       "      <th>50%</th>\n",
       "      <td>6.000000</td>\n",
       "      <td>0.536580</td>\n",
       "    </tr>\n",
       "    <tr>\n",
       "      <th>75%</th>\n",
       "      <td>11.000000</td>\n",
       "      <td>0.889443</td>\n",
       "    </tr>\n",
       "    <tr>\n",
       "      <th>max</th>\n",
       "      <td>642.000000</td>\n",
       "      <td>1.000000</td>\n",
       "    </tr>\n",
       "  </tbody>\n",
       "</table>\n",
       "</div>"
      ],
      "text/plain": [
       "           text_len       emotion\n",
       "count  42431.000000  41916.000000\n",
       "mean      11.197709      0.533924\n",
       "std       19.443911      0.349569\n",
       "min        1.000000      0.000000\n",
       "25%        4.000000      0.205499\n",
       "50%        6.000000      0.536580\n",
       "75%       11.000000      0.889443\n",
       "max      642.000000      1.000000"
      ]
     },
     "execution_count": 76,
     "metadata": {},
     "output_type": "execute_result"
    }
   ],
   "source": [
    "data.describe()"
   ]
  },
  {
   "cell_type": "code",
   "execution_count": 77,
   "metadata": {},
   "outputs": [
    {
     "data": {
      "image/png": "[encoded data removed]",
      "text/plain": [
       "<Figure size 432x288 with 1 Axes>"
      ]
     },
     "metadata": {},
     "output_type": "display_data"
    }
   ],
   "source": [
    "#情感分直方图\n",
    "import matplotlib.pyplot as plt\n",
    "import numpy as np\n",
    "\n",
    "plt.rcParams['font.sans-serif']=['SimHei']\n",
    "plt.rcParams['axes.unicode_minus'] = False\n",
    "\n",
    "bins=np.arange(0,1.1,0.1)\n",
    "plt.hist(data['emotion'],bins,color='#4F94CD',alpha=0.9)\n",
    "plt.xlim(0,1)\n",
    "plt.xlabel('情感分')\n",
    "plt.ylabel('数量')\n",
    "plt.title('情感分直方图')\n",
    "\n",
    "plt.show()\n"
   ]
  },
  {
   "cell_type": "code",
   "execution_count": 78,
   "metadata": {},
   "outputs": [
    {
     "data": {
      "text/plain": [
       "0        前 几天 虎年 纪念 瓶 插 花 瓶身 设计 送 卖 收藏 价值 感觉 年货 越来越 设计 ...\n",
       "1                                         卧槽 吓死 真的 话题 说 事 \n",
       "2        国家 企业信用 信息 公示 系统 显示 浙江 饮用水 有限公司 注销 网站 信息 显示 公司...\n",
       "3                                                      NaN\n",
       "4        近日 胡润 百富榜 发布 亿 第三次 首富 腾讯 马化腾 继年 重回 拼 黄峥 亿 首次 位...\n",
       "                               ...                        \n",
       "42426                                               条码 零售 \n",
       "42427                                               外面 替换 \n",
       "42428                                        防串 货 毫升 数 零售 \n",
       "42429                   住 酒店 好点 酒店 怡宝 依云 扬州 住 酒店 依云 农夫 马桶 \n",
       "42430                                酒店 供应 农夫 马桶 从来不 喝 恶心 \n",
       "Name: text_processed, Length: 42431, dtype: object"
      ]
     },
     "execution_count": 78,
     "metadata": {},
     "output_type": "execute_result"
    }
   ],
   "source": [
    "data['text_processed']"
   ]
  },
  {
   "cell_type": "code",
   "execution_count": 79,
   "metadata": {},
   "outputs": [],
   "source": [
    "#关键词top20\n",
    "import jieba.analyse\n",
    "\n",
    "def extract_keywords(text_processed):\n",
    "    text_str = str(text_processed)  # 将文本转换为字符串类型\n",
    "    return jieba.analyse.extract_tags(sentence=text_str, topK=20, withWeight=True, allowPOS=())\n",
    "\n",
    "data['key_words'] = data['text_processed'].apply(extract_keywords)\n"
   ]
  },
  {
   "cell_type": "code",
   "execution_count": 80,
   "metadata": {},
   "outputs": [
    {
     "data": {
      "text/plain": [
       "0        [(新春, 0.65026063065625), (瓶身, 0.36941362844687...\n",
       "1        [(卧槽, 3.475169413), (吓死, 2.376557124325), (话题,...\n",
       "2        [(注销, 0.9841391705622223), (年月日, 0.77531040351...\n",
       "3                                   [(nan, 11.9547675029)]\n",
       "4        [(百富榜, 0.5266690911), (胡润, 0.486314519104), (企...\n",
       "                               ...                        \n",
       "42426          [(条码, 4.94667223337), (零售, 3.466384225085)]\n",
       "42427          [(替换, 3.948395292435), (外面, 3.20007408329)]\n",
       "42428    [(防串, 3.9849225009666664), (毫升, 2.87418766425)...\n",
       "42429    [(依云, 2.39095350058), (酒店, 2.1592468616189997)...\n",
       "42430    [(马桶, 1.7105152487), (农夫, 1.5509263003066664),...\n",
       "Name: key_words, Length: 42431, dtype: object"
      ]
     },
     "execution_count": 80,
     "metadata": {},
     "output_type": "execute_result"
    }
   ],
   "source": [
    "data['key_words']"
   ]
  },
  {
   "cell_type": "code",
   "execution_count": 81,
   "metadata": {},
   "outputs": [
    {
     "name": "stdout",
     "output_type": "stream",
     "text": [
      "积极评论，消极评论数目分别为：\n"
     ]
    },
    {
     "data": {
      "text/plain": [
       "(22474, 19957)"
      ]
     },
     "execution_count": 81,
     "metadata": {},
     "output_type": "execute_result"
    }
   ],
   "source": [
    "#计算积极评论与消极评论各自的数目\n",
    "pos = 0\n",
    "neg = 0\n",
    "for i in data['emotion']:\n",
    "    if i >= 0.5:\n",
    "        pos += 1\n",
    "    else:\n",
    "        neg += 1\n",
    "print('积极评论，消极评论数目分别为：')\n",
    "pos,neg\n"
   ]
  },
  {
   "cell_type": "code",
   "execution_count": 82,
   "metadata": {},
   "outputs": [
    {
     "data": {
      "image/png": "[encoded data removed]",
      "text/plain": [
       "<Figure size 432x288 with 1 Axes>"
      ]
     },
     "metadata": {},
     "output_type": "display_data"
    }
   ],
   "source": [
    "# 积极评论占比\n",
    "import matplotlib.pyplot as plt \n",
    "\n",
    "plt.rcParams['font.sans-serif']=['SimHei']\n",
    "plt.rcParams['axes.unicode_minus'] = False\n",
    "\n",
    "pie_labels='postive','negative'\n",
    "plt.pie([pos,neg],labels=pie_labels,autopct='%1.1f%%',shadow=True)\n",
    "\n",
    "plt.show()\n"
   ]
  },
  {
   "cell_type": "code",
   "execution_count": 83,
   "metadata": {},
   "outputs": [
    {
     "data": {
      "text/html": [
       "<div>\n",
       "<style scoped>\n",
       "    .dataframe tbody tr th:only-of-type {\n",
       "        vertical-align: middle;\n",
       "    }\n",
       "\n",
       "    .dataframe tbody tr th {\n",
       "        vertical-align: top;\n",
       "    }\n",
       "\n",
       "    .dataframe thead th {\n",
       "        text-align: right;\n",
       "    }\n",
       "</style>\n",
       "<table border=\"1\" class=\"dataframe\">\n",
       "  <thead>\n",
       "    <tr style=\"text-align: right;\">\n",
       "      <th></th>\n",
       "      <th>text</th>\n",
       "      <th>Release time</th>\n",
       "      <th>text_processed</th>\n",
       "      <th>text_len</th>\n",
       "      <th>emotion</th>\n",
       "      <th>key_words</th>\n",
       "    </tr>\n",
       "  </thead>\n",
       "  <tbody>\n",
       "    <tr>\n",
       "      <th>1</th>\n",
       "      <td>卧槽吓死了真的是这个话题就不能说清楚吗以为有什么事了</td>\n",
       "      <td>03月29日 10:46</td>\n",
       "      <td>卧槽 吓死 真的 话题 说 事</td>\n",
       "      <td>7</td>\n",
       "      <td>0.199872</td>\n",
       "      <td>[(卧槽, 3.475169413), (吓死, 2.376557124325), (话题,...</td>\n",
       "    </tr>\n",
       "    <tr>\n",
       "      <th>2</th>\n",
       "      <td>国家企业信用信息公示系统显示浙江农夫山泉饮用水有限公司已注销网站信息显示该公司法定代表人为钟...</td>\n",
       "      <td>03月28日 23:43</td>\n",
       "      <td>国家 企业信用 信息 公示 系统 显示 浙江 饮用水 有限公司 注销 网站 信息 显示 公司...</td>\n",
       "      <td>28</td>\n",
       "      <td>0.004726</td>\n",
       "      <td>[(注销, 0.9841391705622223), (年月日, 0.77531040351...</td>\n",
       "    </tr>\n",
       "    <tr>\n",
       "      <th>7</th>\n",
       "      <td>农夫山泉老板钟睒睒身价为亿美元位居中国第一世界排名第</td>\n",
       "      <td>03月28日 16:57</td>\n",
       "      <td>老板 身价 亿美元 位居 第一 世界 排名第</td>\n",
       "      <td>8</td>\n",
       "      <td>0.487224</td>\n",
       "      <td>[(排名第, 1.274849129937143), (身价, 1.209565092631...</td>\n",
       "    </tr>\n",
       "    <tr>\n",
       "      <th>8</th>\n",
       "      <td>中国大富豪排名公布农夫山泉钟睒睒排名第一资产亿第二黄峥第三马化腾第四张一鸣</td>\n",
       "      <td>03月28日 16:16</td>\n",
       "      <td>富豪 排名 公布 排名 第一 资产 亿 黄峥 第三 马化腾 第四 张一鸣</td>\n",
       "      <td>13</td>\n",
       "      <td>0.035738</td>\n",
       "      <td>[(排名, 1.1888485637672728), (黄峥, 1.086797045718...</td>\n",
       "    </tr>\n",
       "    <tr>\n",
       "      <th>18</th>\n",
       "      <td>等等你不是日本株式会社吗同志们咱们要提防碟中谍反间计啊还是说小日本也疯特了</td>\n",
       "      <td>03月26日 08:56</td>\n",
       "      <td>株式会社 同志 提防 碟中谍 反间计 说 疯特</td>\n",
       "      <td>8</td>\n",
       "      <td>0.049195</td>\n",
       "      <td>[(碟中谍, 1.9924612504833332), (疯特, 1.99246125048...</td>\n",
       "    </tr>\n",
       "    <tr>\n",
       "      <th>20</th>\n",
       "      <td>给脓敷衫洗地的那些个大殖子过来解释解释翻译翻译你们的霓虹主子这是啥意思</td>\n",
       "      <td>03月25日 21:37</td>\n",
       "      <td>脓 敷衫 洗 大殖子 解释 解释 翻译 翻译 霓虹 主子 这是 啥意思</td>\n",
       "      <td>13</td>\n",
       "      <td>0.037462</td>\n",
       "      <td>[(翻译, 1.498429772184), (敷衫, 1.19547675029), (大...</td>\n",
       "    </tr>\n",
       "    <tr>\n",
       "      <th>26</th>\n",
       "      <td>江苏常州一家便利店发出公告称不在卖农夫山泉的任何产品了大哥你这操作把我整蒙了要知道是日本企业...</td>\n",
       "      <td>03月23日 08:57</td>\n",
       "      <td>江苏 常州 一家 便利店 发出 公告 称 卖 产品 大哥 操作 整蒙 企业 说 售卖 企业 ...</td>\n",
       "      <td>23</td>\n",
       "      <td>0.292851</td>\n",
       "      <td>[(整蒙, 0.6291982896263157), (媚日, 0.629198289626...</td>\n",
       "    </tr>\n",
       "    <tr>\n",
       "      <th>29</th>\n",
       "      <td>农夫山泉到底咋了日本人都看不下去了</td>\n",
       "      <td>03月23日 00:08</td>\n",
       "      <td>看不下去</td>\n",
       "      <td>2</td>\n",
       "      <td>0.428952</td>\n",
       "      <td>[(看不下去, 10.7226238216)]</td>\n",
       "    </tr>\n",
       "    <tr>\n",
       "      <th>30</th>\n",
       "      <td>人这公司最早是美国的在美国就叫正式商标表记方式为由于店铺的营业时间是从早上点开始到晚上点结束...</td>\n",
       "      <td>03月22日 17:13 转赞人数超过300</td>\n",
       "      <td>公司 最早 正式 商标 表记 方式 店铺 营业时间 是从 早上 点 晚上 点 结束 牵强附会...</td>\n",
       "      <td>17</td>\n",
       "      <td>0.034048</td>\n",
       "      <td>[(神特, 0.8539119644928571), (营业时间, 0.8359609339...</td>\n",
       "    </tr>\n",
       "    <tr>\n",
       "      <th>31</th>\n",
       "      <td>什么脑袋的中国人为日本公司下架中国产品叫好一群脑残</td>\n",
       "      <td>03月22日 11:27</td>\n",
       "      <td>脑袋 人为 日本公司 下架 产品 叫好 一群 脑残</td>\n",
       "      <td>9</td>\n",
       "      <td>0.270376</td>\n",
       "      <td>[(日本公司, 1.4943459378625), (下架, 1.4943459378625...</td>\n",
       "    </tr>\n",
       "  </tbody>\n",
       "</table>\n",
       "</div>"
      ],
      "text/plain": [
       "                                                 text            Release time  \\\n",
       "1                          卧槽吓死了真的是这个话题就不能说清楚吗以为有什么事了            03月29日 10:46   \n",
       "2   国家企业信用信息公示系统显示浙江农夫山泉饮用水有限公司已注销网站信息显示该公司法定代表人为钟...            03月28日 23:43   \n",
       "7                          农夫山泉老板钟睒睒身价为亿美元位居中国第一世界排名第            03月28日 16:57   \n",
       "8               中国大富豪排名公布农夫山泉钟睒睒排名第一资产亿第二黄峥第三马化腾第四张一鸣            03月28日 16:16   \n",
       "18              等等你不是日本株式会社吗同志们咱们要提防碟中谍反间计啊还是说小日本也疯特了            03月26日 08:56   \n",
       "20                给脓敷衫洗地的那些个大殖子过来解释解释翻译翻译你们的霓虹主子这是啥意思            03月25日 21:37   \n",
       "26  江苏常州一家便利店发出公告称不在卖农夫山泉的任何产品了大哥你这操作把我整蒙了要知道是日本企业...            03月23日 08:57   \n",
       "29                                  农夫山泉到底咋了日本人都看不下去了            03月23日 00:08   \n",
       "30  人这公司最早是美国的在美国就叫正式商标表记方式为由于店铺的营业时间是从早上点开始到晚上点结束...  03月22日 17:13 转赞人数超过300   \n",
       "31                          什么脑袋的中国人为日本公司下架中国产品叫好一群脑残            03月22日 11:27   \n",
       "\n",
       "                                       text_processed  text_len   emotion  \\\n",
       "1                                    卧槽 吓死 真的 话题 说 事          7  0.199872   \n",
       "2   国家 企业信用 信息 公示 系统 显示 浙江 饮用水 有限公司 注销 网站 信息 显示 公司...        28  0.004726   \n",
       "7                             老板 身价 亿美元 位居 第一 世界 排名第          8  0.487224   \n",
       "8               富豪 排名 公布 排名 第一 资产 亿 黄峥 第三 马化腾 第四 张一鸣         13  0.035738   \n",
       "18                           株式会社 同志 提防 碟中谍 反间计 说 疯特          8  0.049195   \n",
       "20               脓 敷衫 洗 大殖子 解释 解释 翻译 翻译 霓虹 主子 这是 啥意思         13  0.037462   \n",
       "26  江苏 常州 一家 便利店 发出 公告 称 卖 产品 大哥 操作 整蒙 企业 说 售卖 企业 ...        23  0.292851   \n",
       "29                                              看不下去          2  0.428952   \n",
       "30  公司 最早 正式 商标 表记 方式 店铺 营业时间 是从 早上 点 晚上 点 结束 牵强附会...        17  0.034048   \n",
       "31                         脑袋 人为 日本公司 下架 产品 叫好 一群 脑残          9  0.270376   \n",
       "\n",
       "                                            key_words  \n",
       "1   [(卧槽, 3.475169413), (吓死, 2.376557124325), (话题,...  \n",
       "2   [(注销, 0.9841391705622223), (年月日, 0.77531040351...  \n",
       "7   [(排名第, 1.274849129937143), (身价, 1.209565092631...  \n",
       "8   [(排名, 1.1888485637672728), (黄峥, 1.086797045718...  \n",
       "18  [(碟中谍, 1.9924612504833332), (疯特, 1.99246125048...  \n",
       "20  [(翻译, 1.498429772184), (敷衫, 1.19547675029), (大...  \n",
       "26  [(整蒙, 0.6291982896263157), (媚日, 0.629198289626...  \n",
       "29                            [(看不下去, 10.7226238216)]  \n",
       "30  [(神特, 0.8539119644928571), (营业时间, 0.8359609339...  \n",
       "31  [(日本公司, 1.4943459378625), (下架, 1.4943459378625...  "
      ]
     },
     "execution_count": 83,
     "metadata": {},
     "output_type": "execute_result"
    }
   ],
   "source": [
    "#获取消极评论数据\n",
    "data2=data[data['emotion']<0.5]\n",
    "data2.head(10)\n"
   ]
  },
  {
   "cell_type": "code",
   "execution_count": 84,
   "metadata": {},
   "outputs": [
    {
     "data": {
      "text/html": [
       "<div>\n",
       "<style scoped>\n",
       "    .dataframe tbody tr th:only-of-type {\n",
       "        vertical-align: middle;\n",
       "    }\n",
       "\n",
       "    .dataframe tbody tr th {\n",
       "        vertical-align: top;\n",
       "    }\n",
       "\n",
       "    .dataframe thead th {\n",
       "        text-align: right;\n",
       "    }\n",
       "</style>\n",
       "<table border=\"1\" class=\"dataframe\">\n",
       "  <thead>\n",
       "    <tr style=\"text-align: right;\">\n",
       "      <th></th>\n",
       "      <th>text</th>\n",
       "      <th>Release time</th>\n",
       "      <th>text_processed</th>\n",
       "      <th>text_len</th>\n",
       "      <th>emotion</th>\n",
       "      <th>key_words</th>\n",
       "    </tr>\n",
       "  </thead>\n",
       "  <tbody>\n",
       "    <tr>\n",
       "      <th>0</th>\n",
       "      <td>前几天用农夫山泉的虎年纪念瓶插了花据说这个瓶身设计是只送不卖的很有收藏价值感觉现在的年货越来...</td>\n",
       "      <td>03月20日 10:50</td>\n",
       "      <td>前 几天 虎年 纪念 瓶 插 花 瓶身 设计 送 卖 收藏 价值 感觉 年货 越来越 设计 ...</td>\n",
       "      <td>42</td>\n",
       "      <td>0.931577</td>\n",
       "      <td>[(新春, 0.65026063065625), (瓶身, 0.36941362844687...</td>\n",
       "    </tr>\n",
       "    <tr>\n",
       "      <th>4</th>\n",
       "      <td>近日胡润百富榜发布农夫山泉钟睒睒以亿第三次成为中国首富腾讯马化腾继年之后重回第二拼多多黄峥以...</td>\n",
       "      <td>03月28日 19:58</td>\n",
       "      <td>近日 胡润 百富榜 发布 亿 第三次 首富 腾讯 马化腾 继年 重回 拼 黄峥 亿 首次 位...</td>\n",
       "      <td>117</td>\n",
       "      <td>0.764672</td>\n",
       "      <td>[(百富榜, 0.5266690911), (胡润, 0.486314519104), (企...</td>\n",
       "    </tr>\n",
       "    <tr>\n",
       "      <th>5</th>\n",
       "      <td>月日胡润研究院发布的胡润百富榜显示岁的农夫山泉董事长钟睒睒以亿元连续第三次成为中国首富但较去...</td>\n",
       "      <td>03月28日 17:59</td>\n",
       "      <td>月 日 胡润 研究院 发布 胡润 百富榜 显示 岁 董事长 亿元 连续 第三次 首富 去年 ...</td>\n",
       "      <td>67</td>\n",
       "      <td>0.999994</td>\n",
       "      <td>[(财富, 0.43169619284881355), (企业家, 0.3932115844...</td>\n",
       "    </tr>\n",
       "    <tr>\n",
       "      <th>9</th>\n",
       "      <td>对于骨泥淀粉肠啥的我认为只要他们能改我就能吃而且平时也不总吃但是对于农夫山泉的事件与日本有关...</td>\n",
       "      <td>03月27日 22:32</td>\n",
       "      <td>骨泥 淀粉 肠 改 吃 平时 总 吃 事件 虚伪 丧 良心 企业家 沾边 包括 浙江 卫视 ...</td>\n",
       "      <td>27</td>\n",
       "      <td>0.981044</td>\n",
       "      <td>[(卫视, 1.1052084495052632), (良心, 0.864244020805...</td>\n",
       "    </tr>\n",
       "    <tr>\n",
       "      <th>10</th>\n",
       "      <td>是日本主要零售企业伊藤洋华堂所属便利店大水冲了龙王庙冷暖视频的微博视频</td>\n",
       "      <td>03月27日 17:00 转赞人数超过100</td>\n",
       "      <td>零售 企业 伊藤 洋华堂 所属 便利店 水冲 龙王庙 冷暖 微博</td>\n",
       "      <td>11</td>\n",
       "      <td>0.996316</td>\n",
       "      <td>[(洋华堂, 1.32075304714), (微博, 1.19547675029), (便...</td>\n",
       "    </tr>\n",
       "    <tr>\n",
       "      <th>11</th>\n",
       "      <td>可是不是日本企业吗越来越迷幻了</td>\n",
       "      <td>03月27日 14:23</td>\n",
       "      <td>企业 越来越 迷幻</td>\n",
       "      <td>4</td>\n",
       "      <td>0.610959</td>\n",
       "      <td>[(迷幻, 3.901151024866667), (越来越, 1.878943173536...</td>\n",
       "    </tr>\n",
       "    <tr>\n",
       "      <th>12</th>\n",
       "      <td>因为农夫山泉的日本元素而抵制的爱国者们估计知识有限不知道这个信息：是跨国连锁便利店集团成立于...</td>\n",
       "      <td>03月26日 20:18</td>\n",
       "      <td>元素 抵制 爱国者 估计 知识 有限 信息 跨国 连锁 便利店 集团 成立 年 最初 位于 ...</td>\n",
       "      <td>40</td>\n",
       "      <td>0.999945</td>\n",
       "      <td>[(子公司, 0.3920080721005714), (洋华堂, 0.3773580134...</td>\n",
       "    </tr>\n",
       "    <tr>\n",
       "      <th>13</th>\n",
       "      <td>本身就是日本企业啊太魔幻了</td>\n",
       "      <td>03月26日 18:00 转赞人数超过1万</td>\n",
       "      <td>企业 太 魔幻</td>\n",
       "      <td>4</td>\n",
       "      <td>0.975381</td>\n",
       "      <td>[(魔幻, 5.56404446485), (企业, 2.110886092475)]</td>\n",
       "    </tr>\n",
       "    <tr>\n",
       "      <th>15</th>\n",
       "      <td>你就是日本的品牌吧日本占你的最大股份你装什么啊好搞笑今日笑料</td>\n",
       "      <td>03月26日 16:10 转赞人数超过1万</td>\n",
       "      <td>品牌 占 股份 装 搞笑 今日 笑料</td>\n",
       "      <td>8</td>\n",
       "      <td>0.910612</td>\n",
       "      <td>[(搞笑, 2.1066763644), (笑料, 2.1066763644), (品牌, ...</td>\n",
       "    </tr>\n",
       "    <tr>\n",
       "      <th>16</th>\n",
       "      <td>啊没记错也是日本的品牌吧这个世界好魔幻</td>\n",
       "      <td>03月26日 14:54</td>\n",
       "      <td>没 记错 品牌 世界 魔幻</td>\n",
       "      <td>6</td>\n",
       "      <td>0.999004</td>\n",
       "      <td>[(魔幻, 2.782022232425), (记错, 2.6087354373), (品牌...</td>\n",
       "    </tr>\n",
       "  </tbody>\n",
       "</table>\n",
       "</div>"
      ],
      "text/plain": [
       "                                                 text            Release time  \\\n",
       "0   前几天用农夫山泉的虎年纪念瓶插了花据说这个瓶身设计是只送不卖的很有收藏价值感觉现在的年货越来...            03月20日 10:50   \n",
       "4   近日胡润百富榜发布农夫山泉钟睒睒以亿第三次成为中国首富腾讯马化腾继年之后重回第二拼多多黄峥以...            03月28日 19:58   \n",
       "5   月日胡润研究院发布的胡润百富榜显示岁的农夫山泉董事长钟睒睒以亿元连续第三次成为中国首富但较去...            03月28日 17:59   \n",
       "9   对于骨泥淀粉肠啥的我认为只要他们能改我就能吃而且平时也不总吃但是对于农夫山泉的事件与日本有关...            03月27日 22:32   \n",
       "10                是日本主要零售企业伊藤洋华堂所属便利店大水冲了龙王庙冷暖视频的微博视频  03月27日 17:00 转赞人数超过100   \n",
       "11                                    可是不是日本企业吗越来越迷幻了            03月27日 14:23   \n",
       "12  因为农夫山泉的日本元素而抵制的爱国者们估计知识有限不知道这个信息：是跨国连锁便利店集团成立于...            03月26日 20:18   \n",
       "13                                      本身就是日本企业啊太魔幻了   03月26日 18:00 转赞人数超过1万   \n",
       "15                     你就是日本的品牌吧日本占你的最大股份你装什么啊好搞笑今日笑料   03月26日 16:10 转赞人数超过1万   \n",
       "16                                啊没记错也是日本的品牌吧这个世界好魔幻            03月26日 14:54   \n",
       "\n",
       "                                       text_processed  text_len   emotion  \\\n",
       "0   前 几天 虎年 纪念 瓶 插 花 瓶身 设计 送 卖 收藏 价值 感觉 年货 越来越 设计 ...        42  0.931577   \n",
       "4   近日 胡润 百富榜 发布 亿 第三次 首富 腾讯 马化腾 继年 重回 拼 黄峥 亿 首次 位...       117  0.764672   \n",
       "5   月 日 胡润 研究院 发布 胡润 百富榜 显示 岁 董事长 亿元 连续 第三次 首富 去年 ...        67  0.999994   \n",
       "9   骨泥 淀粉 肠 改 吃 平时 总 吃 事件 虚伪 丧 良心 企业家 沾边 包括 浙江 卫视 ...        27  0.981044   \n",
       "10                  零售 企业 伊藤 洋华堂 所属 便利店 水冲 龙王庙 冷暖 微博         11  0.996316   \n",
       "11                                         企业 越来越 迷幻          4  0.610959   \n",
       "12  元素 抵制 爱国者 估计 知识 有限 信息 跨国 连锁 便利店 集团 成立 年 最初 位于 ...        40  0.999945   \n",
       "13                                           企业 太 魔幻          4  0.975381   \n",
       "15                                品牌 占 股份 装 搞笑 今日 笑料          8  0.910612   \n",
       "16                                     没 记错 品牌 世界 魔幻          6  0.999004   \n",
       "\n",
       "                                            key_words  \n",
       "0   [(新春, 0.65026063065625), (瓶身, 0.36941362844687...  \n",
       "4   [(百富榜, 0.5266690911), (胡润, 0.486314519104), (企...  \n",
       "5   [(财富, 0.43169619284881355), (企业家, 0.3932115844...  \n",
       "9   [(卫视, 1.1052084495052632), (良心, 0.864244020805...  \n",
       "10  [(洋华堂, 1.32075304714), (微博, 1.19547675029), (便...  \n",
       "11  [(迷幻, 3.901151024866667), (越来越, 1.878943173536...  \n",
       "12  [(子公司, 0.3920080721005714), (洋华堂, 0.3773580134...  \n",
       "13        [(魔幻, 5.56404446485), (企业, 2.110886092475)]  \n",
       "15  [(搞笑, 2.1066763644), (笑料, 2.1066763644), (品牌, ...  \n",
       "16  [(魔幻, 2.782022232425), (记错, 2.6087354373), (品牌...  "
      ]
     },
     "execution_count": 84,
     "metadata": {},
     "output_type": "execute_result"
    }
   ],
   "source": [
    "#获取积极评论数据\n",
    "data3=data[data['emotion']>=0.5]\n",
    "data3.head(10)\n"
   ]
  },
  {
   "cell_type": "code",
   "execution_count": 85,
   "metadata": {},
   "outputs": [],
   "source": [
    "text2=data2['text_processed']\n",
    "text3=data3['text_processed']"
   ]
  },
  {
   "cell_type": "code",
   "execution_count": 86,
   "metadata": {},
   "outputs": [
    {
     "data": {
      "text/plain": [
       "[('农夫', 0.12609684518321257),\n",
       " ('矿泉水', 0.089956718363458),\n",
       " ('好喝', 0.04745029424163542),\n",
       " ('一瓶', 0.04535148498639724),\n",
       " ('自来水', 0.03590897760768093),\n",
       " ('真的', 0.035450588876332456),\n",
       " ('饮料', 0.030089230916809633),\n",
       " ('瓶子', 0.02754129027619454),\n",
       " ('味道', 0.02750617433883226),\n",
       " ('康师傅', 0.026617607339398427)]"
      ]
     },
     "execution_count": 86,
     "metadata": {},
     "output_type": "execute_result"
    }
   ],
   "source": [
    "#积极消极关键词top10\n",
    "import jieba.analyse\n",
    "\n",
    "# 假设 text2 是一个 Series 对象，包含多条文本\n",
    "# 首先从 Series 中提取文本内容，然后合并成一个字符串\n",
    "text_combined = ' '.join(text2)\n",
    "\n",
    "# 调用 extract_tags() 函数\n",
    "key_words = jieba.analyse.extract_tags(sentence=text_combined, topK=10, withWeight=True, allowPOS=())\n",
    "key_words\n",
    "\n"
   ]
  },
  {
   "cell_type": "code",
   "execution_count": 87,
   "metadata": {},
   "outputs": [
    {
     "data": {
      "text/plain": [
       "[('怡宝', 0.04572612624767945),\n",
       " ('首富', 0.04348387523101617),\n",
       " ('爱国', 0.042062377793084),\n",
       " ('收起', 0.03485358813732842),\n",
       " ('矿泉水', 0.03201193858037505),\n",
       " ('好喝', 0.03177164681176887),\n",
       " ('喜欢', 0.029639894866468782),\n",
       " ('农夫', 0.029184601446400563),\n",
       " ('真的', 0.027473229853888493),\n",
       " ('企业', 0.026284660193122106)]"
      ]
     },
     "execution_count": 87,
     "metadata": {},
     "output_type": "execute_result"
    }
   ],
   "source": [
    "#积极积极关键词top10\n",
    "import jieba.analyse\n",
    "\n",
    "# 假设 text3 是一个 Series 对象，包含多条文本\n",
    "# 首先从 Series 中提取文本内容，然后合并成一个字符串\n",
    "text_combined = ' '.join(text3)\n",
    "\n",
    "# 调用 extract_tags() 函数\n",
    "key_words = jieba.analyse.extract_tags(sentence=text_combined, topK=10, withWeight=True, allowPOS=())\n",
    "key_words\n"
   ]
  },
  {
   "cell_type": "code",
   "execution_count": 88,
   "metadata": {},
   "outputs": [],
   "source": [
    "from itertools import chain"
   ]
  },
  {
   "cell_type": "code",
   "execution_count": 89,
   "metadata": {},
   "outputs": [
    {
     "name": "stdout",
     "output_type": "stream",
     "text": [
      "训练集共包含不同词汇总数为： 48438\n"
     ]
    }
   ],
   "source": [
    "vocab = set(chain(*map(lambda x: jieba.lcut(str(x)), data['text_processed'])))\n",
    "print(\"训练集共包含不同词汇总数为：\", len(vocab))\n"
   ]
  },
  {
   "cell_type": "code",
   "execution_count": 90,
   "metadata": {},
   "outputs": [],
   "source": [
    "# 使用jieba中的词性标注功能\n",
    "import jieba.posseg as pseg\n",
    "\n",
    "def get_a_list(text):\n",
    "    \"\"\"用于获取形容词列表\"\"\"\n",
    "    # 使用jieba的词性标注方法切分文本,获得具有词性属性flag和词汇属性word的对象, \n",
    "    # 从而判断flag是否为形容词,来返回对应的词汇\n",
    "    r = []\n",
    "    for g in pseg.lcut(text):\n",
    "        if g.flag == \"a\":\n",
    "            r.append(g.word)\n",
    "    return r\n"
   ]
  },
  {
   "cell_type": "code",
   "execution_count": 91,
   "metadata": {},
   "outputs": [],
   "source": [
    "# 导入绘制词云的工具包\n",
    "from wordcloud import WordCloud\n",
    "def get_word_cloud(keywords_list):\n",
    "    # 实例化绘制词云的类, 其中参数font_path是字体路径, 为了能够显示中文, \n",
    "    # max_words指词云图像最多显示多少个词, background_color为背景颜色 \n",
    "    wordcloud = WordCloud(font_path='C:/WINDOWS/Fonts/simhei.ttf', max_words=100, background_color=\"white\")  #font_path=\"F:/data/SimHei.ttf\",\n",
    "    # 将传入的列表转化成词云生成器需要的字符串形式\n",
    "    keywords_string = \" \".join(keywords_list)\n",
    "    # 生成词云\n",
    "    wordcloud.generate(keywords_string)\n",
    "\n",
    "    # 绘制图像并显示\n",
    "    plt.figure()\n",
    "    plt.imshow(wordcloud, interpolation=\"bilinear\")\n",
    "    plt.axis(\"off\")\n",
    "    plt.show()\n"
   ]
  },
  {
   "cell_type": "code",
   "execution_count": 92,
   "metadata": {},
   "outputs": [],
   "source": [
    "from itertools import chain"
   ]
  },
  {
   "cell_type": "code",
   "execution_count": 93,
   "metadata": {},
   "outputs": [
    {
     "data": {
      "image/png": "[encoded data removed]",
      "text/plain": [
       "<Figure size 432x288 with 1 Axes>"
      ]
     },
     "metadata": {},
     "output_type": "display_data"
    }
   ],
   "source": [
    "###积极评论词云图\n",
    "p_data = data3['text_processed']\n",
    "\n",
    "# 对正样本的每个句子的形容词\n",
    "p_a_vocab = chain(*map(lambda x: get_a_list(x), p_data))\n",
    "#print(train_p_n_vocab)\n",
    "\n",
    "\n",
    "# 调用绘制词云函数\n",
    "get_word_cloud(p_a_vocab)\n"
   ]
  },
  {
   "cell_type": "code",
   "execution_count": null,
   "metadata": {},
   "outputs": [],
   "source": []
  },
  {
   "cell_type": "code",
   "execution_count": null,
   "metadata": {},
   "outputs": [],
   "source": []
  }
 ],
 "metadata": {
  "kernelspec": {
   "display_name": "base",
   "language": "python",
   "name": "python3"
  },
  "language_info": {
   "codemirror_mode": {
    "name": "ipython",
    "version": 3
   },
   "file_extension": ".py",
   "mimetype": "text/x-python",
   "name": "python",
   "nbconvert_exporter": "python",
   "pygments_lexer": "ipython3",
   "version": "3.9.7"
  }
 },
 "nbformat": 4,
 "nbformat_minor": 2
}
